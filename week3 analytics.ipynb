{
  "nbformat": 4,
  "nbformat_minor": 0,
  "metadata": {
    "colab": {
      "provenance": [],
      "authorship_tag": "ABX9TyPkKMJjEm4wZGvQGEsG+x9d",
      "include_colab_link": true
    },
    "kernelspec": {
      "name": "python3",
      "display_name": "Python 3"
    },
    "language_info": {
      "name": "python"
    }
  },
  "cells": [
    {
      "cell_type": "markdown",
      "metadata": {
        "id": "view-in-github",
        "colab_type": "text"
      },
      "source": [
        "<a href=\"https://colab.research.google.com/github/dev180920/Devanshu_Priy_Datahack/blob/main/week3%20analytics.ipynb\" target=\"_parent\"><img src=\"https://colab.research.google.com/assets/colab-badge.svg\" alt=\"Open In Colab\"/></a>"
      ]
    },
    {
      "cell_type": "code",
      "execution_count": 1,
      "metadata": {
        "colab": {
          "base_uri": "https://localhost:8080/"
        },
        "id": "uNPyHmSwCqoM",
        "outputId": "2837eb55-52fc-4b5b-e4e4-6df7c91c1344"
      },
      "outputs": [
        {
          "output_type": "stream",
          "name": "stdout",
          "text": [
            "Validation ROC AUC for xyz_vaccine: 0.8294325525888947\n",
            "Validation ROC AUC for seasonal_vaccine: 0.8518072872366175\n",
            "Mean ROC AUC: 0.8406199199127561\n"
          ]
        }
      ],
      "source": [
        "import pandas as pd\n",
        "from sklearn.model_selection import train_test_split\n",
        "from sklearn.preprocessing import StandardScaler, OneHotEncoder\n",
        "from sklearn.compose import ColumnTransformer\n",
        "from sklearn.pipeline import Pipeline\n",
        "from sklearn.impute import SimpleImputer\n",
        "from sklearn.ensemble import RandomForestClassifier\n",
        "from sklearn.multioutput import MultiOutputClassifier\n",
        "from sklearn.metrics import roc_auc_score\n",
        "\n",
        "# Step 1: Load the data\n",
        "train_features = pd.read_csv('/content/training_set_features[1].csv')\n",
        "train_labels = pd.read_csv('/content/training_set_labels[1].csv')\n",
        "test_features = pd.read_csv('/content/test_set_features[1].csv')\n",
        "\n",
        "# Step 2: Preprocess the data\n",
        "\n",
        "# Separate the features and labels in the training set\n",
        "X = train_features.drop(columns=['respondent_id'])\n",
        "y = train_labels.drop(columns=['respondent_id'])\n",
        "\n",
        "# List of categorical and numerical features\n",
        "categorical_features = X.select_dtypes(include=['object']).columns\n",
        "numerical_features = X.select_dtypes(include=['int64', 'float64']).columns\n",
        "\n",
        "# Preprocessing pipelines for numerical and categorical data\n",
        "numerical_transformer = Pipeline(steps=[\n",
        "    ('imputer', SimpleImputer(strategy='median')),\n",
        "    ('scaler', StandardScaler())\n",
        "])\n",
        "\n",
        "categorical_transformer = Pipeline(steps=[\n",
        "    ('imputer', SimpleImputer(strategy='most_frequent')),\n",
        "    ('onehot', OneHotEncoder(handle_unknown='ignore'))\n",
        "])\n",
        "\n",
        "# Combine preprocessing steps\n",
        "preprocessor = ColumnTransformer(\n",
        "    transformers=[\n",
        "        ('num', numerical_transformer, numerical_features),\n",
        "        ('cat', categorical_transformer, categorical_features)\n",
        "    ])\n",
        "\n",
        "# Step 3: Train the model\n",
        "\n",
        "# Create a pipeline with the preprocessor and classifier\n",
        "model = Pipeline(steps=[\n",
        "    ('preprocessor', preprocessor),\n",
        "    ('classifier', MultiOutputClassifier(RandomForestClassifier(random_state=42)))\n",
        "])\n",
        "\n",
        "# Split the data into training and validation sets\n",
        "X_train, X_val, y_train, y_val = train_test_split(X, y, test_size=0.2, random_state=42)\n",
        "\n",
        "# Train the model\n",
        "model.fit(X_train, y_train)\n",
        "\n",
        "# Predict on the validation set\n",
        "y_pred_val = model.predict_proba(X_val)\n",
        "\n",
        "# Calculate ROC AUC score for validation set\n",
        "roc_auc_xyz = roc_auc_score(y_val['xyz_vaccine'], y_pred_val[0][:, 1])\n",
        "roc_auc_seasonal = roc_auc_score(y_val['seasonal_vaccine'], y_pred_val[1][:, 1])\n",
        "mean_roc_auc = (roc_auc_xyz + roc_auc_seasonal) / 2\n",
        "\n",
        "print(f'Validation ROC AUC for xyz_vaccine: {roc_auc_xyz}')\n",
        "print(f'Validation ROC AUC for seasonal_vaccine: {roc_auc_seasonal}')\n",
        "print(f'Mean ROC AUC: {mean_roc_auc}')\n",
        "\n",
        "# Step 4: Predict probabilities on the test set\n",
        "X_test = test_features.drop(columns=['respondent_id'])\n",
        "y_pred_test = model.predict_proba(X_test)\n",
        "\n",
        "# Create the submission DataFrame\n",
        "submission = pd.DataFrame({\n",
        "    'respondent_id': test_features['respondent_id'],\n",
        "    'xyz_vaccine': y_pred_test[0][:, 1],  # Probability for xyz_vaccine\n",
        "    'seasonal_vaccine': y_pred_test[1][:, 1]  # Probability for seasonal_vaccine\n",
        "})\n",
        "\n",
        "# Step 5: Save the predictions\n",
        "submission.to_csv('/content/submission_format[1].csv', index=False)\n"
      ]
    },
    {
      "cell_type": "code",
      "source": [],
      "metadata": {
        "id": "hhvtpznmEke6"
      },
      "execution_count": null,
      "outputs": []
    }
  ]
}